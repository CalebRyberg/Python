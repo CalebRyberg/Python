{
 "cells": [
  {
   "cell_type": "code",
   "execution_count": 1,
   "metadata": {},
   "outputs": [
    {
     "name": "stdout",
     "output_type": "stream",
     "text": [
      "Total sums of combinations with 5 dice rolled with 6 is: 252\n",
      "Total combinations of 5 dice rollded with 6 sides equaling the target sum  20 is: 18\n",
      "Probability of rolling a sum of 20 is: 7.1429 %\n"
     ]
    }
   ],
   "source": [
    "#Solve for the probability of rolling 5 fair dice with 6 sides that the sum is 20\n",
    "#imports\n",
    "import numpy as np\n",
    "import itertools as it\n",
    "#create necessary variables with desired values\n",
    "#add 1 to the sides in the range as count begins at 0\n",
    "dice_num = 5\n",
    "dice_sides = 6\n",
    "target_sum = 20\n",
    "dice = np.arange(1,dice_sides+1,1)\n",
    "#print array of dice to confirm desired input\n",
    "#print(dice)\n",
    "#create itertools result with the given input variables above\n",
    "#using a combination because order does not matter\n",
    "#if we wanted to make order matter saying each die is a different color, we would use permutations\n",
    "result = it.combinations_with_replacement(dice,dice_num)\n",
    "list_combos = list(result)\n",
    "#check the length to confirm it is correct\n",
    "#create and print the iterable to confirm\n",
    "#print(len(list_combos))\n",
    "#print(list_combos)\n",
    "#create arrays to append values to for all sums of the combinations and when the targeted sum is found\n",
    "sums = []\n",
    "target = []\n",
    "#Loop through the list form of the iterable combinations\n",
    "#calculate the sum of each possible combination and append to sums array or if target sum then the target array\n",
    "for i in list_combos:\n",
    "    sums.append(sum(i))\n",
    "    if sum(i)==target_sum:\n",
    "        target.append(sum(i))\n",
    "#Print desired output\n",
    "print(\"Total sums of combinations with\",dice_num,\"dice rolled with\",dice_sides,\"is:\", len(sums))\n",
    "print(\"Total combinations of\",dice_num,\"dice rollded with\",dice_sides,\"sides equaling the target sum \",target_sum,\"is:\",len(target))\n",
    "print(\"Probability of rolling a sum of\",target_sum,\"is:\",round(len(target)/len(sums)*100,4),\"%\")"
   ]
  },
  {
   "cell_type": "code",
   "execution_count": null,
   "metadata": {},
   "outputs": [],
   "source": []
  }
 ],
 "metadata": {
  "kernelspec": {
   "display_name": "Python 3",
   "language": "python",
   "name": "python3"
  },
  "language_info": {
   "codemirror_mode": {
    "name": "ipython",
    "version": 3
   },
   "file_extension": ".py",
   "mimetype": "text/x-python",
   "name": "python",
   "nbconvert_exporter": "python",
   "pygments_lexer": "ipython3",
   "version": "3.7.1"
  }
 },
 "nbformat": 4,
 "nbformat_minor": 2
}
