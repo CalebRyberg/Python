{
 "cells": [
  {
   "cell_type": "code",
   "execution_count": 1,
   "metadata": {},
   "outputs": [
    {
     "name": "stdout",
     "output_type": "stream",
     "text": [
      "11.711899087577994 %\n"
     ]
    }
   ],
   "source": [
    "#Logistic Regression Problem\n",
    "#Given values for intercept, x1 and x2 coefficients\n",
    "import numpy as np\n",
    "#Given values\n",
    "i = -41.2\n",
    "x1 = 0.363\n",
    "x2 = 0.096\n",
    "ev = 100\n",
    "la = 30\n",
    "#Define the Binary Logistic Regression Formula\n",
    "#This is the probability whether or not a ball hit will be a HR\n",
    "#Logistic model used batted balls >= 90mph\n",
    "def Log_Reg_HR(i,x1,x2,ev,la):\n",
    "    e1 = np.exp(i + x1*ev + x2*la)\n",
    "    e2 = 1 + np.exp(i + x1*ev + x2*la)\n",
    "    return ((e1/e2)*100)\n",
    "print(Log_Reg_HR(i,x1,x2,ev,la),\"%\")"
   ]
  },
  {
   "cell_type": "code",
   "execution_count": 2,
   "metadata": {},
   "outputs": [
    {
     "name": "stdout",
     "output_type": "stream",
     "text": [
      "Difference of 1mph from 105mph to 106mph at 30deg 9.048930076087501 %\n",
      "Difference of 1mph from 110mph to 111mph at 25deg 6.06892301553566 %\n"
     ]
    }
   ],
   "source": [
    "#Logistic Regression Problem part B\n",
    "#Given values for intercept, x1 and x2 coefficients\n",
    "import numpy as np\n",
    "#Given values\n",
    "i = -41.2\n",
    "x1 = 0.363\n",
    "x2 = 0.096\n",
    "ev = 105\n",
    "la = 30\n",
    "#Define the Binary Logistic Regression Formula\n",
    "#This is the probability whether or not a ball hit will be a HR\n",
    "#Logistic model used batted balls >= 90mph\n",
    "def Log_Reg_HR(i,x1,x2,ev,la):\n",
    "    e1 = np.exp(i + x1*ev + x2*la)\n",
    "    e2 = 1 + np.exp(i + x1*ev + x2*la)\n",
    "    return ((e1/e2)*100)\n",
    "#Print differences of 1mph change given the first speeds and launch angles\n",
    "print(\"Difference of 1mph from 105mph to 106mph at 30deg\",Log_Reg_HR(i,x1,x2,106,la)-Log_Reg_HR(i,x1,x2,ev,la),\"%\")\n",
    "print(\"Difference of 1mph from 110mph to 111mph at 25deg\",Log_Reg_HR(i,x1,x2,111,25)-Log_Reg_HR(i,x1,x2,110,25),\"%\")\n",
    "#The largest difference is made by changing the exit velocity by 1mph at the lower speed with the larger launch angle"
   ]
  },
  {
   "cell_type": "code",
   "execution_count": null,
   "metadata": {},
   "outputs": [],
   "source": []
  }
 ],
 "metadata": {
  "kernelspec": {
   "display_name": "Python 3",
   "language": "python",
   "name": "python3"
  },
  "language_info": {
   "codemirror_mode": {
    "name": "ipython",
    "version": 3
   },
   "file_extension": ".py",
   "mimetype": "text/x-python",
   "name": "python",
   "nbconvert_exporter": "python",
   "pygments_lexer": "ipython3",
   "version": "3.7.1"
  }
 },
 "nbformat": 4,
 "nbformat_minor": 2
}
