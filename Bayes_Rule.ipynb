{
 "cells": [
  {
   "cell_type": "code",
   "execution_count": 1,
   "metadata": {},
   "outputs": [
    {
     "name": "stdout",
     "output_type": "stream",
     "text": [
      "Probability a randomly selected person from the given population is actually injured given the light turns red is: 19.1489 %\n"
     ]
    }
   ],
   "source": [
    "#Solve using Baye's Rule\n",
    "#List the given values for the problem and associate them with the statistical situation\n",
    "#Let A represent the probability the light shows red\n",
    "#Let B represent the probability the selected is actually injured\n",
    "#Given values\n",
    "Prob_A_Given_B = 0.9\n",
    "Prob_A_Given_Bc = 0.2\n",
    "Prob_B = 0.05\n",
    "Prob_Bc = 0.95\n",
    "#Probability a randomly selected person from the given population is injured given the red light shows\n",
    "#P(B|A)=(P(A|B)*P(B))/P(A)\n",
    "#P(A)=(P(A|B)*P(B))+(P(A|Bc)*P(Bc))\n",
    "#Simply stated as the possibility they are injured out of the total possibility the light shows red\n",
    "#Define a function to call that will print the probability with the given values\n",
    "#The problem can be run again simply changing the #Given values section for a different answer\n",
    "#If intending to solve a different probability, then a new function would have to be defined\n",
    "def Prob_Injured(Prob_A_Given_B,Prob_A_Given_Bc,Prob_B,Prob_Bc):\n",
    "#Use defined variable names to write desired statistical equation\n",
    "    x = (Prob_A_Given_B*Prob_B)\n",
    "    y = x + (Prob_A_Given_Bc*Prob_Bc)\n",
    "    Prob_Injured_Given_A = x/y\n",
    "    #return the answer multiplied by 100 so it is represented as a percent\n",
    "    return Prob_Injured_Given_A*100\n",
    "#Print the probability for the given question\n",
    "print(\"Probability a randomly selected person from the given population is actually injured given the light turns red is:\",round(Prob_Injured(Prob_A_Given_B,Prob_A_Given_Bc,Prob_B,Prob_Bc),4),\"%\")"
   ]
  },
  {
   "cell_type": "code",
   "execution_count": null,
   "metadata": {},
   "outputs": [],
   "source": []
  }
 ],
 "metadata": {
  "kernelspec": {
   "display_name": "Python 3",
   "language": "python",
   "name": "python3"
  },
  "language_info": {
   "codemirror_mode": {
    "name": "ipython",
    "version": 3
   },
   "file_extension": ".py",
   "mimetype": "text/x-python",
   "name": "python",
   "nbconvert_exporter": "python",
   "pygments_lexer": "ipython3",
   "version": "3.7.1"
  }
 },
 "nbformat": 4,
 "nbformat_minor": 2
}
