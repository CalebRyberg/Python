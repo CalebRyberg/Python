{
 "cells": [
  {
   "cell_type": "code",
   "execution_count": 2,
   "metadata": {},
   "outputs": [],
   "source": [
    "#Define an unfair probability for a pitcher to complete 80% scoreless innings\n",
    "#Given that out of 1 game he will need to complete at least 7 scoreless innings\n",
    "#This means that of 9 innings 7 are scoreless\n",
    "#There are 3 possibilities this can happen\n",
    "#7 scoreless in 7\n",
    "#7 scoreless in 8\n",
    "#7 scoreless in 9\n",
    "import numpy as np\n",
    "import math\n",
    "from numpy import poly1d"
   ]
  },
  {
   "cell_type": "code",
   "execution_count": 3,
   "metadata": {},
   "outputs": [
    {
     "name": "stdout",
     "output_type": "stream",
     "text": [
      "p equals: (0.78+0j) for a pitcher expected to throw 80.0 % scoreless innings in 9 innings\n"
     ]
    }
   ],
   "source": [
    "#put in the given or assumed values\n",
    "innings = 9\n",
    "target_prob = 0.8\n",
    "s = 7\n",
    "#create dummy arrays for p**7(1-p)**2,1,0 \n",
    "pp = poly1d([-target_prob])\n",
    "p7 = poly1d([1,0,0,0,0,0,0,0])\n",
    "p8 = poly1d([-1,1,0,0,0,0,0,0,0])\n",
    "p9 = poly1d([1,-2,1,0,0,0,0,0,0,0])\n",
    "#make a list of dummy arrays to loop through\n",
    "#empty list to hold the new polynomials\n",
    "polylist = [p7,p8,p9]\n",
    "polys = []\n",
    "#make a function to return/append the new polynomials with coefficients\n",
    "#pass through desired successes in t number of trials\n",
    "def polynomial(s,t):\n",
    "    for i in range(s,t):\n",
    "        #solve coefficient of binomial probability given s in t\n",
    "        C = math.factorial(i)/(math.factorial(s)*math.factorial(i-s))\n",
    "        polys.append(C*polylist[i-s])\n",
    "#run the function with the given inputs\n",
    "polynomial(s,innings+1)\n",
    "#add all of the polynomials together and the desired probability poly\n",
    "poly = poly1d(sum(polys))\n",
    "poly_final = np.polyadd(poly,pp)\n",
    "#solve the added polynomials for real roots to figure out the value of p\n",
    "roots = np.roots(poly_final)\n",
    "pval = roots[np.isreal(roots)]\n",
    "print(\"p equals:\",round(pval[0],2),\"for a pitcher expected to throw\",target_prob*100,\"% scoreless innings in\",innings,\"innings\")"
   ]
  },
  {
   "cell_type": "code",
   "execution_count": null,
   "metadata": {},
   "outputs": [],
   "source": []
  }
 ],
 "metadata": {
  "kernelspec": {
   "display_name": "Python 3",
   "language": "python",
   "name": "python3"
  },
  "language_info": {
   "codemirror_mode": {
    "name": "ipython",
    "version": 3
   },
   "file_extension": ".py",
   "mimetype": "text/x-python",
   "name": "python",
   "nbconvert_exporter": "python",
   "pygments_lexer": "ipython3",
   "version": "3.7.1"
  }
 },
 "nbformat": 4,
 "nbformat_minor": 2
}
