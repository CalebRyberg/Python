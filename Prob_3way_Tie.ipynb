{
 "cells": [
  {
   "cell_type": "code",
   "execution_count": 1,
   "metadata": {},
   "outputs": [
    {
     "name": "stdout",
     "output_type": "stream",
     "text": [
      "[0.001953125, 0.017578125, 0.0703125, 0.1640625, 0.24609375, 0.24609375, 0.1640625, 0.0703125]\n",
      "[0.015625, 0.09375, 0.234375, 0.3125, 0.234375, 0.09375, 0.015625]\n",
      "[0.125, 0.375, 0.375, 0.125]\n",
      "Probability of a 3 way tie = 0.0016\n"
     ]
    }
   ],
   "source": [
    "#Determine the probability of a 3Way tie between the Cards 0 games back, Cubs 4 games back, and Brewers 3 games back\n",
    "#Necessary imports\n",
    "import math\n",
    "#Given values\n",
    "#N's represent the number of trials\n",
    "p = 0.5\n",
    "q = 0.5\n",
    "N = 9\n",
    "N1 = 6\n",
    "N2 = 3\n",
    "#create arrays to store possible probabilites from for loops\n",
    "brewerprobs = []\n",
    "cc_other = []\n",
    "cvsc = []\n",
    "#for loops for brewers that can win a max of 7 games, cards when they play cubs, and cards/cubs vs other teams\n",
    "#these loops calculate and store the probabilities in the arrays for later use\n",
    "for x in range(0,8):\n",
    "        pb = math.factorial(N)/(math.factorial(x)*math.factorial(N-x))*math.pow(p,x)*math.pow(q,N-x)\n",
    "        brewerprobs.append(pb)\n",
    "print(brewerprobs)\n",
    "for y in range(0,7):\n",
    "        pb = math.factorial(N1)/(math.factorial(y)*math.factorial(N1-y))*math.pow(p,y)*math.pow(q,N1-y)\n",
    "        cvsc.append(pb)\n",
    "print(cvsc)\n",
    "for z in range(0,4):\n",
    "        pb = math.factorial(N2)/(math.factorial(z)*math.factorial(N2-z))*math.pow(p,z)*math.pow(q,N2-z)\n",
    "        cc_other.append(pb)\n",
    "print(cc_other)\n",
    "#If the Cards win more than 4 games a tie is not possible\n",
    "#Cards win 4, with 1 against Cubs, 2 against Cubs not possible for tie\n",
    "#Each of the equations multiplies the probabilities because they are both needed as it is an \"AND not OR\" situation\n",
    "#Each of the probabilites of 4,3,2,1 win for Cards are added as they are all ways 3way tie could happen \"OR not AND\" situation\n",
    "CW4P = (cc_other[3]*cvsc[1])*(cc_other[3]*cvsc[5])*(brewerprobs[7])\n",
    "#Cards win 3 games total, has 3 possibilities with 0,1,and 2 wins against cubs\n",
    "CW3P = (cc_other[3]*cvsc[0])*(cc_other[1]*cvsc[6])*(brewerprobs[6])+(cc_other[2]*cvsc[1])*(cc_other[2]*cvsc[5])*(brewerprobs[6])+(cc_other[1]*cvsc[2])*(cc_other[3]*cvsc[4])*(brewerprobs[6])\n",
    "#Cards win 2 games total, has 3 possibilities with 0,1,and 2 wins against cubs cannot win 3 for tie to be possible\n",
    "CW2P = (cc_other[2]*cvsc[0])*(cc_other[0]*cvsc[6])*(brewerprobs[5])+(cc_other[1]*cvsc[1])*(cc_other[1]*cvsc[5])*(brewerprobs[5])+(cc_other[0]*cvsc[2])*(cc_other[2]*cvsc[4])*(brewerprobs[5])\n",
    "#Cards win 1 game total, with 1 possibility for a tie\n",
    "CW1P = (cc_other[0]*cvsc[1])*(cc_other[0]*cvsc[5])*(brewerprobs[4])\n",
    "#print(CW1P)\n",
    "#print(CW2P)\n",
    "#print(CW3P)\n",
    "#print(CW4P)\n",
    "Prob_3Way_Tie = CW1P+CW2P+CW3P+CW4P\n",
    "print(\"Probability of a 3 way tie =\",round(Prob_3Way_Tie,4))"
   ]
  },
  {
   "cell_type": "code",
   "execution_count": null,
   "metadata": {},
   "outputs": [],
   "source": []
  }
 ],
 "metadata": {
  "kernelspec": {
   "display_name": "Python 3",
   "language": "python",
   "name": "python3"
  },
  "language_info": {
   "codemirror_mode": {
    "name": "ipython",
    "version": 3
   },
   "file_extension": ".py",
   "mimetype": "text/x-python",
   "name": "python",
   "nbconvert_exporter": "python",
   "pygments_lexer": "ipython3",
   "version": "3.7.1"
  }
 },
 "nbformat": 4,
 "nbformat_minor": 2
}
