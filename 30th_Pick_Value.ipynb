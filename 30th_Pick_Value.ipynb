{
 "cells": [
  {
   "cell_type": "code",
   "execution_count": 2,
   "metadata": {},
   "outputs": [
    {
     "name": "stdout",
     "output_type": "stream",
     "text": [
      "2365500 2275800\n",
      "From 2018 to 2019 3.9414711310308466 % increase\n",
      "2275800 2184300\n",
      "From 2017 to 2018 4.1889850295289115 % increase\n",
      "2184300 2003400\n",
      "From 2016 to 2017 9.029649595687331 % increase\n",
      "2003400 1914000\n",
      "From 2015 to 2016 4.670846394984326 % increase\n",
      "1914000 1760500\n",
      "From 2014 to 2015 8.719113888099972 % increase\n",
      "1760500 1731200\n",
      "From 2013 to 2014 1.6924676524953788 % increase\n",
      "1731200 1600000\n",
      "From 2012 to 2013 8.200000000000001 % increase\n",
      "2020 30th pick value $ 2502166.88\n"
     ]
    }
   ],
   "source": [
    "#Determine an estimate for purchasing the 30th pick in the 2020 MLB draft\n",
    "#Using information attained from MLB.com regarding draft pools, allotment, and pick cost and http://www.mymlbdraft.com/2017-draft/mlb-draft-results/round-1\n",
    "#necessary imports\n",
    "import numpy as np\n",
    "#create arrays of the past values from 2012 and on for the 30th pick until 2019\n",
    "#this is when the draft picks began being assigned values\n",
    "#create an array to store increase from year to year\n",
    "pick30value = [2365500,2275800,2184300,2003400,1914000,1760500,1731200,1600000]\n",
    "pick30year = [2019,2018,2017,2016,2015,2014,2013,2012]\n",
    "increase = []\n",
    "#get the length of the values to iterate over \n",
    "#calculate the percent increase from year to year and print it out\n",
    "#append the increase value to the increase array\n",
    "length = len(pick30value)\n",
    "for i in range(length):\n",
    "    if i >= 1:\n",
    "        v1 = pick30value[i-1]\n",
    "        v2 = pick30value[i]\n",
    "        percent = ((v1-v2)/abs(v2))*100\n",
    "        increase.append(percent)\n",
    "        print(v1,v2)\n",
    "        print(\"From\",pick30year[i],\"to\",pick30year[i-1],percent,\"% increase\")\n",
    "#create an estimated value for the 30th pick in 2020 based on average increases since 2012 to 2019\n",
    "#use the average to calculate 2020 30th value and print\n",
    "Est2020pick30value = ((np.mean(increase)/100)+1)*pick30value[0]\n",
    "print(\"2020 30th pick value\",\"$\",round(Est2020pick30value,2))"
   ]
  },
  {
   "cell_type": "code",
   "execution_count": null,
   "metadata": {},
   "outputs": [],
   "source": []
  }
 ],
 "metadata": {
  "kernelspec": {
   "display_name": "Python 3",
   "language": "python",
   "name": "python3"
  },
  "language_info": {
   "codemirror_mode": {
    "name": "ipython",
    "version": 3
   },
   "file_extension": ".py",
   "mimetype": "text/x-python",
   "name": "python",
   "nbconvert_exporter": "python",
   "pygments_lexer": "ipython3",
   "version": "3.7.1"
  }
 },
 "nbformat": 4,
 "nbformat_minor": 2
}
